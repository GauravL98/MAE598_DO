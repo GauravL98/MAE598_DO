{
  "nbformat": 4,
  "nbformat_minor": 0,
  "metadata": {
    "colab": {
      "name": "hw1.ipynb",
      "provenance": [],
      "authorship_tag": "ABX9TyOQ+7tAa8HYYpdK3V3VM+pp",
      "include_colab_link": true
    },
    "kernelspec": {
      "name": "python3",
      "display_name": "Python 3"
    },
    "language_info": {
      "name": "python"
    }
  },
  "cells": [
    {
      "cell_type": "markdown",
      "metadata": {
        "id": "view-in-github",
        "colab_type": "text"
      },
      "source": [
        "<a href=\"https://colab.research.google.com/github/GauravL98/MAE598_DO/blob/main/hw1.ipynb\" target=\"_parent\"><img src=\"https://colab.research.google.com/assets/colab-badge.svg\" alt=\"Open In Colab\"/></a>"
      ]
    },
    {
      "cell_type": "code",
      "source": [
        "from scipy.optimize import minimize\n",
        "\n",
        "#creating objective function\n",
        "def objective(x):\n",
        "  x1 = x[0]\n",
        "  x2 = x[1]\n",
        "  x3 = x[2]\n",
        "  x4 = x[3]\n",
        "  x5 = x[4]\n",
        "  return (x1-x2)**2 + (x2+x3-2)**2 + (x4-1)**2 + (x5-1)**2\n",
        "\n",
        "def constraint1(x):\n",
        "  return x[0] + 3*x[1]\n",
        "def constraint2(x):\n",
        "  return x[2] + x[3] - 2*x[4]\n",
        "def constraint3(x):\n",
        "  return x[1] - x[4]\n",
        "\n",
        "\n",
        "bnds = ((-10,10),(-10,10),(-10,10),(-10,10),(-10,10))\n",
        "\n",
        "cons = ({'type':'eq','fun':constraint1},\n",
        "         {'type':'eq','fun':constraint2},\n",
        "         {'type':'eq','fun':constraint3})\n",
        "\n",
        "#intial guesses\n",
        "x0 = [2 ,2, 5, 5, 5]\n",
        "\n",
        "result_i = minimize(objective,x0,method='SLSQP',bounds=bnds,constraints=cons)\n",
        "print(result_i.x)\n",
        "\n",
        "#secound guess\n",
        "x1 = [2 ,3, 8, 5,7]\n",
        "result_2 = minimize(objective,x0,method='SLSQP',bounds=bnds,constraints=cons)\n",
        "print(result_2.x)\n"
      ],
      "metadata": {
        "colab": {
          "base_uri": "https://localhost:8080/"
        },
        "id": "9qB9wJo70TKo",
        "outputId": "93618c82-93f6-41f6-aece-58c61d8f3b73"
      },
      "execution_count": 4,
      "outputs": [
        {
          "output_type": "stream",
          "name": "stdout",
          "text": [
            "[-0.76728059  0.2557602   0.62777429 -0.1162539   0.2557602 ]\n",
            "[-0.76728059  0.2557602   0.62777429 -0.1162539   0.2557602 ]\n"
          ]
        }
      ]
    }
  ]
}